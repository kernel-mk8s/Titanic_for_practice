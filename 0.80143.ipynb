{
 "cells": [
  {
   "cell_type": "markdown",
   "metadata": {},
   "source": [
    "Fork元: [Titanic0.816(16)KusakaSho.ipynb](Titanic_16th.ipynb)"
   ]
  },
  {
   "cell_type": "code",
   "execution_count": 1,
   "metadata": {},
   "outputs": [],
   "source": [
    "import numpy as np\n",
    "import pandas as pd\n",
    "from pandas import DataFrame, Series\n",
    "import matplotlib.pyplot as plt\n",
    "import seaborn as sns\n",
    "\n",
    "from sklearn.model_selection import train_test_split, GridSearchCV\n",
    "from sklearn.ensemble import RandomForestClassifier\n",
    "from sklearn.linear_model import LogisticRegression\n",
    "from sklearn.neural_network import MLPClassifier\n",
    "from sklearn.preprocessing import StandardScaler\n",
    "from sklearn.svm import SVR\n",
    "from sklearn.svm import SVC\n",
    "from sklearn.neighbors import  KNeighborsClassifier"
   ]
  },
  {
   "cell_type": "code",
   "execution_count": 2,
   "metadata": {},
   "outputs": [],
   "source": [
    "import warnings\n",
    "warnings.filterwarnings('ignore')"
   ]
  },
  {
   "cell_type": "markdown",
   "metadata": {},
   "source": [
    "### 1. データの読み込み"
   ]
  },
  {
   "cell_type": "code",
   "execution_count": 3,
   "metadata": {},
   "outputs": [],
   "source": [
    "path = ,
    "\n",
    "df = pd.read_csv(path + r\"\\train.csv\")\n",
    "df_test = pd.read_csv(path + r\"\\test.csv\")"
   ]
  },
  {
   "cell_type": "markdown",
   "metadata": {},
   "source": [
    "### 2. データの補完、特徴量の作成"
   ]
  },
  {
   "cell_type": "code",
   "execution_count": 4,
   "metadata": {},
   "outputs": [
    {
     "data": {
      "text/html": [
       "<div>\n",
       "<style scoped>\n",
       "    .dataframe tbody tr th:only-of-type {\n",
       "        vertical-align: middle;\n",
       "    }\n",
       "\n",
       "    .dataframe tbody tr th {\n",
       "        vertical-align: top;\n",
       "    }\n",
       "\n",
       "    .dataframe thead th {\n",
       "        text-align: right;\n",
       "    }\n",
       "</style>\n",
       "<table border=\"1\" class=\"dataframe\">\n",
       "  <thead>\n",
       "    <tr style=\"text-align: right;\">\n",
       "      <th></th>\n",
       "      <th>PassengerId</th>\n",
       "      <th>Survived</th>\n",
       "      <th>Pclass</th>\n",
       "      <th>Name</th>\n",
       "      <th>Sex</th>\n",
       "      <th>Age</th>\n",
       "      <th>SibSp</th>\n",
       "      <th>Parch</th>\n",
       "      <th>Ticket</th>\n",
       "      <th>Fare</th>\n",
       "      <th>Cabin</th>\n",
       "      <th>Embarked</th>\n",
       "    </tr>\n",
       "  </thead>\n",
       "  <tbody>\n",
       "    <tr>\n",
       "      <th>0</th>\n",
       "      <td>1</td>\n",
       "      <td>0</td>\n",
       "      <td>3</td>\n",
       "      <td>Braund, Mr. Owen Harris</td>\n",
       "      <td>male</td>\n",
       "      <td>22.0</td>\n",
       "      <td>1</td>\n",
       "      <td>0</td>\n",
       "      <td>A/5 21171</td>\n",
       "      <td>7.2500</td>\n",
       "      <td>NaN</td>\n",
       "      <td>S</td>\n",
       "    </tr>\n",
       "    <tr>\n",
       "      <th>1</th>\n",
       "      <td>2</td>\n",
       "      <td>1</td>\n",
       "      <td>1</td>\n",
       "      <td>Cumings, Mrs. John Bradley (Florence Briggs Th...</td>\n",
       "      <td>female</td>\n",
       "      <td>38.0</td>\n",
       "      <td>1</td>\n",
       "      <td>0</td>\n",
       "      <td>PC 17599</td>\n",
       "      <td>71.2833</td>\n",
       "      <td>C85</td>\n",
       "      <td>C</td>\n",
       "    </tr>\n",
       "    <tr>\n",
       "      <th>2</th>\n",
       "      <td>3</td>\n",
       "      <td>1</td>\n",
       "      <td>3</td>\n",
       "      <td>Heikkinen, Miss. Laina</td>\n",
       "      <td>female</td>\n",
       "      <td>26.0</td>\n",
       "      <td>0</td>\n",
       "      <td>0</td>\n",
       "      <td>STON/O2. 3101282</td>\n",
       "      <td>7.9250</td>\n",
       "      <td>NaN</td>\n",
       "      <td>S</td>\n",
       "    </tr>\n",
       "    <tr>\n",
       "      <th>3</th>\n",
       "      <td>4</td>\n",
       "      <td>1</td>\n",
       "      <td>1</td>\n",
       "      <td>Futrelle, Mrs. Jacques Heath (Lily May Peel)</td>\n",
       "      <td>female</td>\n",
       "      <td>35.0</td>\n",
       "      <td>1</td>\n",
       "      <td>0</td>\n",
       "      <td>113803</td>\n",
       "      <td>53.1000</td>\n",
       "      <td>C123</td>\n",
       "      <td>S</td>\n",
       "    </tr>\n",
       "    <tr>\n",
       "      <th>4</th>\n",
       "      <td>5</td>\n",
       "      <td>0</td>\n",
       "      <td>3</td>\n",
       "      <td>Allen, Mr. William Henry</td>\n",
       "      <td>male</td>\n",
       "      <td>35.0</td>\n",
       "      <td>0</td>\n",
       "      <td>0</td>\n",
       "      <td>373450</td>\n",
       "      <td>8.0500</td>\n",
       "      <td>NaN</td>\n",
       "      <td>S</td>\n",
       "    </tr>\n",
       "  </tbody>\n",
       "</table>\n",
       "</div>"
      ],
      "text/plain": [
       "   PassengerId  Survived  Pclass  \\\n",
       "0            1         0       3   \n",
       "1            2         1       1   \n",
       "2            3         1       3   \n",
       "3            4         1       1   \n",
       "4            5         0       3   \n",
       "\n",
       "                                                Name     Sex   Age  SibSp  \\\n",
       "0                            Braund, Mr. Owen Harris    male  22.0      1   \n",
       "1  Cumings, Mrs. John Bradley (Florence Briggs Th...  female  38.0      1   \n",
       "2                             Heikkinen, Miss. Laina  female  26.0      0   \n",
       "3       Futrelle, Mrs. Jacques Heath (Lily May Peel)  female  35.0      1   \n",
       "4                           Allen, Mr. William Henry    male  35.0      0   \n",
       "\n",
       "   Parch            Ticket     Fare Cabin Embarked  \n",
       "0      0         A/5 21171   7.2500   NaN        S  \n",
       "1      0          PC 17599  71.2833   C85        C  \n",
       "2      0  STON/O2. 3101282   7.9250   NaN        S  \n",
       "3      0            113803  53.1000  C123        S  \n",
       "4      0            373450   8.0500   NaN        S  "
      ]
     },
     "execution_count": 4,
     "metadata": {},
     "output_type": "execute_result"
    }
   ],
   "source": [
    "df.head()"
   ]
  },
  {
   "cell_type": "code",
   "execution_count": 5,
   "metadata": {},
   "outputs": [
    {
     "data": {
      "text/plain": [
       "PassengerId      0\n",
       "Survived         0\n",
       "Pclass           0\n",
       "Name             0\n",
       "Sex              0\n",
       "Age            177\n",
       "SibSp            0\n",
       "Parch            0\n",
       "Ticket           0\n",
       "Fare             0\n",
       "Cabin          687\n",
       "Embarked         2\n",
       "dtype: int64"
      ]
     },
     "execution_count": 5,
     "metadata": {},
     "output_type": "execute_result"
    }
   ],
   "source": [
    "df.isnull().sum()"
   ]
  },
  {
   "cell_type": "code",
   "execution_count": 6,
   "metadata": {},
   "outputs": [
    {
     "data": {
      "text/plain": [
       "PassengerId      0\n",
       "Pclass           0\n",
       "Name             0\n",
       "Sex              0\n",
       "Age             86\n",
       "SibSp            0\n",
       "Parch            0\n",
       "Ticket           0\n",
       "Fare             1\n",
       "Cabin          327\n",
       "Embarked         0\n",
       "dtype: int64"
      ]
     },
     "execution_count": 6,
     "metadata": {},
     "output_type": "execute_result"
    }
   ],
   "source": [
    "df_test.isnull().sum()"
   ]
  },
  {
   "cell_type": "markdown",
   "metadata": {},
   "source": [
    "`Age`について  \n",
    "Ageはmale、femaleのうちのMrs、Miss、female全体の平均の計4パターンで計算"
   ]
  },
  {
   "cell_type": "code",
   "execution_count": 7,
   "metadata": {},
   "outputs": [],
   "source": [
    "age_male = df[df['Sex']=='male']['Age'].mean()\n",
    "age_female =df[(df['Sex']=='female')]['Age'].mean()\n",
    "age_female_mrs = df[(df['Sex']=='female') & df['Name'].str.contains('Mrs')]['Age'].mean()\n",
    "age_female_miss = df[(df['Sex']=='female') & df['Name'].str.contains('Miss')]['Age'].mean()"
   ]
  },
  {
   "cell_type": "code",
   "execution_count": 8,
   "metadata": {},
   "outputs": [],
   "source": [
    "# 補完\n",
    "df.loc[(df['Sex'] == 'male') & df['Age'].isnull(), 'Age'] = age_male\n",
    "df.loc[(df['Sex'] =='female') & df['Name'].str.contains('Mrs') & df['Age'].isnull(),'Age'] = age_female_mrs\n",
    "df.loc[(df['Sex'] =='female') & df['Name'].str.contains('Miss') & df['Age'].isnull(),'Age'] = age_female_miss\n",
    "df.loc[(df['Sex'] =='female') & df['Age'].isnull(),'Age'] = age_female\n",
    "\n",
    "df_test.loc[(df_test['Sex']=='male') & df_test['Age'].isnull(),'Age'] = age_male\n",
    "df_test.loc[(df_test['Sex']=='female') & df_test['Name'].str.contains('Mrs') & df_test['Age'].isnull(),'Age'] = age_female_mrs\n",
    "df_test.loc[(df_test['Sex']=='female') & df_test['Name'].str.contains('Miss') & df_test['Age'].isnull(),'Age'] = age_female_miss\n",
    "df_test.loc[(df_test['Sex']=='female') & df_test['Age'].isnull(),'Age'] = age_female"
   ]
  },
  {
   "cell_type": "markdown",
   "metadata": {},
   "source": [
    "`Fare`は`Pclass`毎に算出"
   ]
  },
  {
   "cell_type": "code",
   "execution_count": 9,
   "metadata": {},
   "outputs": [],
   "source": [
    "fareP1 = df[df['Pclass'] == 1]['Fare'].median()\n",
    "fareP2 = df[df['Pclass'] == 2]['Fare'].median()\n",
    "fareP3 = df[df['Pclass'] == 3]['Fare'].median()\n",
    "\n",
    "df_test.loc[(df_test['Pclass'] == 1) & df_test['Fare'].isnull(), 'Fare'] = fareP1\n",
    "df_test.loc[(df_test['Pclass'] == 2) & df_test['Fare'].isnull(), 'Fare'] = fareP2\n",
    "df_test.loc[(df_test['Pclass'] == 3) & df_test['Fare'].isnull(), 'Fare'] = fareP3"
   ]
  },
  {
   "cell_type": "markdown",
   "metadata": {},
   "source": [
    "`Age`と`Fare`をビン分割"
   ]
  },
  {
   "cell_type": "code",
   "execution_count": 10,
   "metadata": {},
   "outputs": [],
   "source": [
    "df['Age'] = pd.qcut(df['Age'], 10, labels = False)\n",
    "df_test['Age'] = pd.qcut(df_test['Age'], 10, labels = False)"
   ]
  },
  {
   "cell_type": "code",
   "execution_count": 11,
   "metadata": {},
   "outputs": [],
   "source": [
    "df['Fare'] = pd.qcut(df['Fare'], 13, labels = False)\n",
    "df_test['Fare'] = pd.qcut(df_test['Fare'], 13, labels = False)"
   ]
  },
  {
   "cell_type": "markdown",
   "metadata": {},
   "source": [
    "`Cabin`の値が空白か否かの列を追加。`Null`なら1、そうでなければ0"
   ]
  },
  {
   "cell_type": "code",
   "execution_count": 12,
   "metadata": {},
   "outputs": [],
   "source": [
    "df['Cabin_Null'] = df['Cabin'].isnull()*1\n",
    "df_test['Cabin_Null'] = df_test['Cabin'].isnull()*1"
   ]
  },
  {
   "cell_type": "code",
   "execution_count": 13,
   "metadata": {},
   "outputs": [],
   "source": [
    "# Cabinは削除\n",
    "df.drop(['Cabin'], axis=1, inplace=True)\n",
    "df_test.drop(['Cabin'], axis=1, inplace=True)"
   ]
  },
  {
   "cell_type": "markdown",
   "metadata": {},
   "source": [
    "`Embarked`の欠損データは`S`で補完"
   ]
  },
  {
   "cell_type": "code",
   "execution_count": 14,
   "metadata": {},
   "outputs": [
    {
     "data": {
      "text/plain": [
       "S    644\n",
       "C    168\n",
       "Q     77\n",
       "Name: Embarked, dtype: int64"
      ]
     },
     "execution_count": 14,
     "metadata": {},
     "output_type": "execute_result"
    }
   ],
   "source": [
    "df[\"Embarked\"].value_counts()"
   ]
  },
  {
   "cell_type": "code",
   "execution_count": 15,
   "metadata": {},
   "outputs": [],
   "source": [
    "df['Embarked'].fillna('S', inplace=True)\n",
    "df_test['Embarked'].fillna('S', inplace=True)"
   ]
  },
  {
   "cell_type": "markdown",
   "metadata": {},
   "source": [
    "`Embarked`をラベルエンコーディングする"
   ]
  },
  {
   "cell_type": "code",
   "execution_count": 16,
   "metadata": {},
   "outputs": [],
   "source": [
    "df['Embarked'].replace({\"S\": 0, \"Q\": 1, \"C\": 2}, inplace=True)\n",
    "df_test['Embarked'].replace({\"S\": 0, \"Q\": 1, \"C\": 2}, inplace=True)"
   ]
  },
  {
   "cell_type": "markdown",
   "metadata": {},
   "source": [
    "`Name`に含まれる敬称の情報から`Title`列を作成。  \n",
    "ラベルエンコーディングする。"
   ]
  },
  {
   "cell_type": "code",
   "execution_count": 17,
   "metadata": {},
   "outputs": [],
   "source": [
    "df['Title'] = df['Name'].apply(lambda x: 0 if 'Mr.' in x else (1 if 'Master.' in x else (2 if 'Miss.' in x else (3 if 'Mrs.' in x else 4))))\n",
    "df_test['Title'] = df_test['Name'].apply(lambda x: 0 if 'Mr.' in x else (1 if 'Master.' in x else (2 if 'Miss.' in x else (3 if 'Mrs.' in x else 4))))"
   ]
  },
  {
   "cell_type": "code",
   "execution_count": 18,
   "metadata": {},
   "outputs": [],
   "source": [
    "# Nameは削除\n",
    "df.drop('Name', axis=1, inplace=True)\n",
    "df_test.drop('Name', axis=1, inplace=True)"
   ]
  },
  {
   "cell_type": "markdown",
   "metadata": {},
   "source": [
    "同一Ticketナンバーの人が何人いるかを特徴量として抽出"
   ]
  },
  {
   "cell_type": "code",
   "execution_count": 19,
   "metadata": {},
   "outputs": [
    {
     "data": {
      "text/plain": [
       "347082      7\n",
       "CA. 2343    7\n",
       "1601        7\n",
       "3101295     6\n",
       "CA 2144     6\n",
       "           ..\n",
       "9234        1\n",
       "19988       1\n",
       "2693        1\n",
       "PC 17612    1\n",
       "370376      1\n",
       "Name: Ticket, Length: 681, dtype: int64"
      ]
     },
     "execution_count": 19,
     "metadata": {},
     "output_type": "execute_result"
    }
   ],
   "source": [
    "df[\"Ticket\"].value_counts()"
   ]
  },
  {
   "cell_type": "code",
   "execution_count": 20,
   "metadata": {},
   "outputs": [
    {
     "name": "stdout",
     "output_type": "stream",
     "text": [
      "False    547\n",
      "True     134\n",
      "Name: Ticket, dtype: int64\n"
     ]
    }
   ],
   "source": [
    "condition = df[\"Ticket\"].value_counts() > 1\n",
    "\n",
    "count = condition.value_counts()\n",
    "print(count)"
   ]
  },
  {
   "cell_type": "code",
   "execution_count": 21,
   "metadata": {},
   "outputs": [],
   "source": [
    "ticket_count = dict(df['Ticket'].value_counts())\n",
    "ticket_count_test = dict(df_test['Ticket'].value_counts())\n",
    "\n",
    "df['TicketGroup'] = df['Ticket'].map(ticket_count)\n",
    "df_test['TicketGroup'] = df_test['Ticket'].map(ticket_count_test)"
   ]
  },
  {
   "cell_type": "code",
   "execution_count": 22,
   "metadata": {},
   "outputs": [
    {
     "data": {
      "text/plain": [
       "1    547\n",
       "2    188\n",
       "3     63\n",
       "4     44\n",
       "7     21\n",
       "6     18\n",
       "5     10\n",
       "Name: TicketGroup, dtype: int64"
      ]
     },
     "execution_count": 22,
     "metadata": {},
     "output_type": "execute_result"
    }
   ],
   "source": [
    "df[\"TicketGroup\"].value_counts()"
   ]
  },
  {
   "cell_type": "code",
   "execution_count": 23,
   "metadata": {},
   "outputs": [
    {
     "data": {
      "text/plain": [
       "TicketGroup\n",
       "1    0.297989\n",
       "2    0.574468\n",
       "3    0.698413\n",
       "4    0.500000\n",
       "5    0.000000\n",
       "6    0.000000\n",
       "7    0.238095\n",
       "Name: Survived, dtype: float64"
      ]
     },
     "execution_count": 23,
     "metadata": {},
     "output_type": "execute_result"
    }
   ],
   "source": [
    "df.groupby(\"TicketGroup\")[\"Survived\"].mean()"
   ]
  },
  {
   "cell_type": "markdown",
   "metadata": {},
   "source": [
    "カウントが2～4の人は生存率が高いため0, それ以外を1とする"
   ]
  },
  {
   "cell_type": "code",
   "execution_count": 24,
   "metadata": {},
   "outputs": [],
   "source": [
    "df.loc[(df['TicketGroup']>=2) & (df['TicketGroup']<=4), 'Ticket_Label'] = 0\n",
    "df['Ticket_Label'].fillna(1, inplace=True)\n",
    "df_test.loc[(df_test['TicketGroup']>=2) & (df_test['TicketGroup']<=4), 'Ticket_Label'] = 0\n",
    "df_test['Ticket_Label'].fillna(1, inplace=True)"
   ]
  },
  {
   "cell_type": "code",
   "execution_count": 25,
   "metadata": {},
   "outputs": [],
   "source": [
    "# Ticketと不要な列を削除\n",
    "df.drop(['Ticket','TicketGroup'], axis=1, inplace=True)\n",
    "df_test.drop(['Ticket','TicketGroup'], axis=1, inplace=True)"
   ]
  },
  {
   "cell_type": "markdown",
   "metadata": {},
   "source": [
    "`Sex`の数値化"
   ]
  },
  {
   "cell_type": "code",
   "execution_count": 26,
   "metadata": {},
   "outputs": [],
   "source": [
    "df.replace({'Sex': {'male': 0, 'female': 1}}, inplace=True)\n",
    "df_test.replace({'Sex': {'male': 0, 'female': 1}}, inplace=True)"
   ]
  },
  {
   "cell_type": "markdown",
   "metadata": {},
   "source": [
    "`Family` = `SibSp` + `Parch` を追加。人数が0なら0、2～4なら1、それ以上は2にする。人数による生存率の違いのため。"
   ]
  },
  {
   "cell_type": "code",
   "execution_count": 27,
   "metadata": {},
   "outputs": [],
   "source": [
    "df['Family'] = (df['SibSp'] + df['Parch']).apply(lambda x: 0 if x == 0 else (1 if 2<=x<=4 else 2))\n",
    "df_test['Family'] = (df_test['SibSp'] + df_test['Parch']).apply(lambda x: 0 if x == 0 else (1 if 2<=x<=4 else 2))"
   ]
  },
  {
   "cell_type": "markdown",
   "metadata": {},
   "source": [
    "(Reference)"
   ]
  },
  {
   "cell_type": "code",
   "execution_count": 28,
   "metadata": {},
   "outputs": [],
   "source": [
    "df[\"FamilySize\"] = df['SibSp'] + df['Parch']\n",
    "df_test['FamilySize'] = df_test['SibSp'] + df_test['Parch']"
   ]
  },
  {
   "cell_type": "code",
   "execution_count": 29,
   "metadata": {},
   "outputs": [
    {
     "data": {
      "text/plain": [
       "FamilySize\n",
       "0     0.303538\n",
       "1     0.552795\n",
       "2     0.578431\n",
       "3     0.724138\n",
       "4     0.200000\n",
       "5     0.136364\n",
       "6     0.333333\n",
       "7     0.000000\n",
       "10    0.000000\n",
       "Name: Survived, dtype: float64"
      ]
     },
     "execution_count": 29,
     "metadata": {},
     "output_type": "execute_result"
    }
   ],
   "source": [
    "df.groupby(\"FamilySize\")[\"Survived\"].mean()"
   ]
  },
  {
   "cell_type": "markdown",
   "metadata": {},
   "source": [
    "___"
   ]
  },
  {
   "cell_type": "code",
   "execution_count": 30,
   "metadata": {},
   "outputs": [],
   "source": [
    "# SibSp Parchは削除\n",
    "df.drop(['SibSp','Parch', 'FamilySize'], axis=1, inplace=True)\n",
    "df_test.drop(['SibSp','Parch', 'FamilySize'], axis=1, inplace=True)"
   ]
  },
  {
   "cell_type": "code",
   "execution_count": 31,
   "metadata": {},
   "outputs": [
    {
     "data": {
      "text/plain": [
       "PassengerId     0\n",
       "Survived        0\n",
       "Pclass          0\n",
       "Sex             0\n",
       "Age             0\n",
       "Fare            0\n",
       "Embarked        0\n",
       "Cabin_Null      0\n",
       "Title           0\n",
       "Ticket_Label    0\n",
       "Family          0\n",
       "dtype: int64"
      ]
     },
     "execution_count": 31,
     "metadata": {},
     "output_type": "execute_result"
    }
   ],
   "source": [
    "df.isnull().sum()"
   ]
  },
  {
   "cell_type": "code",
   "execution_count": 32,
   "metadata": {},
   "outputs": [
    {
     "data": {
      "text/plain": [
       "PassengerId       int64\n",
       "Survived          int64\n",
       "Pclass            int64\n",
       "Sex               int64\n",
       "Age               int64\n",
       "Fare              int64\n",
       "Embarked          int64\n",
       "Cabin_Null        int32\n",
       "Title             int64\n",
       "Ticket_Label    float64\n",
       "Family            int64\n",
       "dtype: object"
      ]
     },
     "execution_count": 32,
     "metadata": {},
     "output_type": "execute_result"
    }
   ],
   "source": [
    "df.dtypes"
   ]
  },
  {
   "cell_type": "markdown",
   "metadata": {},
   "source": [
    "### 3. Baselineの作成"
   ]
  },
  {
   "cell_type": "code",
   "execution_count": 33,
   "metadata": {},
   "outputs": [],
   "source": [
    "X = df.iloc[:, 2:].values\n",
    "y = df.iloc[:, 1].values\n",
    "\n",
    "X_test = df_test.iloc[:, 1:].values"
   ]
  },
  {
   "cell_type": "code",
   "execution_count": 34,
   "metadata": {},
   "outputs": [],
   "source": [
    "# 疑似訓練データと疑似テストデータの作成\n",
    "MyRand = 0\n",
    "X_train, X_valid, y_train, y_valid = train_test_split(X, y, test_size=0.2, random_state=MyRand)"
   ]
  },
  {
   "cell_type": "code",
   "execution_count": 35,
   "metadata": {},
   "outputs": [],
   "source": [
    "from skopt import BayesSearchCV"
   ]
  },
  {
   "cell_type": "markdown",
   "metadata": {},
   "source": [
    "#### 3.1. ランダムフォレスト"
   ]
  },
  {
   "cell_type": "code",
   "execution_count": 36,
   "metadata": {},
   "outputs": [
    {
     "data": {
      "text/html": [
       "<style>#sk-container-id-1 {color: black;background-color: white;}#sk-container-id-1 pre{padding: 0;}#sk-container-id-1 div.sk-toggleable {background-color: white;}#sk-container-id-1 label.sk-toggleable__label {cursor: pointer;display: block;width: 100%;margin-bottom: 0;padding: 0.3em;box-sizing: border-box;text-align: center;}#sk-container-id-1 label.sk-toggleable__label-arrow:before {content: \"▸\";float: left;margin-right: 0.25em;color: #696969;}#sk-container-id-1 label.sk-toggleable__label-arrow:hover:before {color: black;}#sk-container-id-1 div.sk-estimator:hover label.sk-toggleable__label-arrow:before {color: black;}#sk-container-id-1 div.sk-toggleable__content {max-height: 0;max-width: 0;overflow: hidden;text-align: left;background-color: #f0f8ff;}#sk-container-id-1 div.sk-toggleable__content pre {margin: 0.2em;color: black;border-radius: 0.25em;background-color: #f0f8ff;}#sk-container-id-1 input.sk-toggleable__control:checked~div.sk-toggleable__content {max-height: 200px;max-width: 100%;overflow: auto;}#sk-container-id-1 input.sk-toggleable__control:checked~label.sk-toggleable__label-arrow:before {content: \"▾\";}#sk-container-id-1 div.sk-estimator input.sk-toggleable__control:checked~label.sk-toggleable__label {background-color: #d4ebff;}#sk-container-id-1 div.sk-label input.sk-toggleable__control:checked~label.sk-toggleable__label {background-color: #d4ebff;}#sk-container-id-1 input.sk-hidden--visually {border: 0;clip: rect(1px 1px 1px 1px);clip: rect(1px, 1px, 1px, 1px);height: 1px;margin: -1px;overflow: hidden;padding: 0;position: absolute;width: 1px;}#sk-container-id-1 div.sk-estimator {font-family: monospace;background-color: #f0f8ff;border: 1px dotted black;border-radius: 0.25em;box-sizing: border-box;margin-bottom: 0.5em;}#sk-container-id-1 div.sk-estimator:hover {background-color: #d4ebff;}#sk-container-id-1 div.sk-parallel-item::after {content: \"\";width: 100%;border-bottom: 1px solid gray;flex-grow: 1;}#sk-container-id-1 div.sk-label:hover label.sk-toggleable__label {background-color: #d4ebff;}#sk-container-id-1 div.sk-serial::before {content: \"\";position: absolute;border-left: 1px solid gray;box-sizing: border-box;top: 0;bottom: 0;left: 50%;z-index: 0;}#sk-container-id-1 div.sk-serial {display: flex;flex-direction: column;align-items: center;background-color: white;padding-right: 0.2em;padding-left: 0.2em;position: relative;}#sk-container-id-1 div.sk-item {position: relative;z-index: 1;}#sk-container-id-1 div.sk-parallel {display: flex;align-items: stretch;justify-content: center;background-color: white;position: relative;}#sk-container-id-1 div.sk-item::before, #sk-container-id-1 div.sk-parallel-item::before {content: \"\";position: absolute;border-left: 1px solid gray;box-sizing: border-box;top: 0;bottom: 0;left: 50%;z-index: -1;}#sk-container-id-1 div.sk-parallel-item {display: flex;flex-direction: column;z-index: 1;position: relative;background-color: white;}#sk-container-id-1 div.sk-parallel-item:first-child::after {align-self: flex-end;width: 50%;}#sk-container-id-1 div.sk-parallel-item:last-child::after {align-self: flex-start;width: 50%;}#sk-container-id-1 div.sk-parallel-item:only-child::after {width: 0;}#sk-container-id-1 div.sk-dashed-wrapped {border: 1px dashed gray;margin: 0 0.4em 0.5em 0.4em;box-sizing: border-box;padding-bottom: 0.4em;background-color: white;}#sk-container-id-1 div.sk-label label {font-family: monospace;font-weight: bold;display: inline-block;line-height: 1.2em;}#sk-container-id-1 div.sk-label-container {text-align: center;}#sk-container-id-1 div.sk-container {/* jupyter's `normalize.less` sets `[hidden] { display: none; }` but bootstrap.min.css set `[hidden] { display: none !important; }` so we also need the `!important` here to be able to override the default hidden behavior on the sphinx rendered scikit-learn.org. See: https://github.com/scikit-learn/scikit-learn/issues/21755 */display: inline-block !important;position: relative;}#sk-container-id-1 div.sk-text-repr-fallback {display: none;}</style><div id=\"sk-container-id-1\" class=\"sk-top-container\"><div class=\"sk-text-repr-fallback\"><pre>StandardScaler()</pre><b>In a Jupyter environment, please rerun this cell to show the HTML representation or trust the notebook. <br />On GitHub, the HTML representation is unable to render, please try loading this page with nbviewer.org.</b></div><div class=\"sk-container\" hidden><div class=\"sk-item\"><div class=\"sk-estimator sk-toggleable\"><input class=\"sk-toggleable__control sk-hidden--visually\" id=\"sk-estimator-id-1\" type=\"checkbox\" checked><label for=\"sk-estimator-id-1\" class=\"sk-toggleable__label sk-toggleable__label-arrow\">StandardScaler</label><div class=\"sk-toggleable__content\"><pre>StandardScaler()</pre></div></div></div></div></div>"
      ],
      "text/plain": [
       "StandardScaler()"
      ]
     },
     "execution_count": 36,
     "metadata": {},
     "output_type": "execute_result"
    }
   ],
   "source": [
    "# 決定木(ベースラインモデル)の調整\n",
    "rfc = RandomForestClassifier(n_estimators = 150, random_state = MyRand)\n",
    "\n",
    "# 標準化\n",
    "sc = StandardScaler()\n",
    "sc.fit(X_train)"
   ]
  },
  {
   "cell_type": "code",
   "execution_count": 37,
   "metadata": {},
   "outputs": [],
   "source": [
    "X_train_std = sc.transform(X_train)\n",
    "X_valid_std = sc.transform(X_valid)"
   ]
  },
  {
   "cell_type": "code",
   "execution_count": 38,
   "metadata": {},
   "outputs": [],
   "source": [
    "np.int = int"
   ]
  },
  {
   "cell_type": "code",
   "execution_count": 39,
   "metadata": {},
   "outputs": [
    {
     "data": {
      "text/html": [
       "<style>#sk-container-id-2 {color: black;background-color: white;}#sk-container-id-2 pre{padding: 0;}#sk-container-id-2 div.sk-toggleable {background-color: white;}#sk-container-id-2 label.sk-toggleable__label {cursor: pointer;display: block;width: 100%;margin-bottom: 0;padding: 0.3em;box-sizing: border-box;text-align: center;}#sk-container-id-2 label.sk-toggleable__label-arrow:before {content: \"▸\";float: left;margin-right: 0.25em;color: #696969;}#sk-container-id-2 label.sk-toggleable__label-arrow:hover:before {color: black;}#sk-container-id-2 div.sk-estimator:hover label.sk-toggleable__label-arrow:before {color: black;}#sk-container-id-2 div.sk-toggleable__content {max-height: 0;max-width: 0;overflow: hidden;text-align: left;background-color: #f0f8ff;}#sk-container-id-2 div.sk-toggleable__content pre {margin: 0.2em;color: black;border-radius: 0.25em;background-color: #f0f8ff;}#sk-container-id-2 input.sk-toggleable__control:checked~div.sk-toggleable__content {max-height: 200px;max-width: 100%;overflow: auto;}#sk-container-id-2 input.sk-toggleable__control:checked~label.sk-toggleable__label-arrow:before {content: \"▾\";}#sk-container-id-2 div.sk-estimator input.sk-toggleable__control:checked~label.sk-toggleable__label {background-color: #d4ebff;}#sk-container-id-2 div.sk-label input.sk-toggleable__control:checked~label.sk-toggleable__label {background-color: #d4ebff;}#sk-container-id-2 input.sk-hidden--visually {border: 0;clip: rect(1px 1px 1px 1px);clip: rect(1px, 1px, 1px, 1px);height: 1px;margin: -1px;overflow: hidden;padding: 0;position: absolute;width: 1px;}#sk-container-id-2 div.sk-estimator {font-family: monospace;background-color: #f0f8ff;border: 1px dotted black;border-radius: 0.25em;box-sizing: border-box;margin-bottom: 0.5em;}#sk-container-id-2 div.sk-estimator:hover {background-color: #d4ebff;}#sk-container-id-2 div.sk-parallel-item::after {content: \"\";width: 100%;border-bottom: 1px solid gray;flex-grow: 1;}#sk-container-id-2 div.sk-label:hover label.sk-toggleable__label {background-color: #d4ebff;}#sk-container-id-2 div.sk-serial::before {content: \"\";position: absolute;border-left: 1px solid gray;box-sizing: border-box;top: 0;bottom: 0;left: 50%;z-index: 0;}#sk-container-id-2 div.sk-serial {display: flex;flex-direction: column;align-items: center;background-color: white;padding-right: 0.2em;padding-left: 0.2em;position: relative;}#sk-container-id-2 div.sk-item {position: relative;z-index: 1;}#sk-container-id-2 div.sk-parallel {display: flex;align-items: stretch;justify-content: center;background-color: white;position: relative;}#sk-container-id-2 div.sk-item::before, #sk-container-id-2 div.sk-parallel-item::before {content: \"\";position: absolute;border-left: 1px solid gray;box-sizing: border-box;top: 0;bottom: 0;left: 50%;z-index: -1;}#sk-container-id-2 div.sk-parallel-item {display: flex;flex-direction: column;z-index: 1;position: relative;background-color: white;}#sk-container-id-2 div.sk-parallel-item:first-child::after {align-self: flex-end;width: 50%;}#sk-container-id-2 div.sk-parallel-item:last-child::after {align-self: flex-start;width: 50%;}#sk-container-id-2 div.sk-parallel-item:only-child::after {width: 0;}#sk-container-id-2 div.sk-dashed-wrapped {border: 1px dashed gray;margin: 0 0.4em 0.5em 0.4em;box-sizing: border-box;padding-bottom: 0.4em;background-color: white;}#sk-container-id-2 div.sk-label label {font-family: monospace;font-weight: bold;display: inline-block;line-height: 1.2em;}#sk-container-id-2 div.sk-label-container {text-align: center;}#sk-container-id-2 div.sk-container {/* jupyter's `normalize.less` sets `[hidden] { display: none; }` but bootstrap.min.css set `[hidden] { display: none !important; }` so we also need the `!important` here to be able to override the default hidden behavior on the sphinx rendered scikit-learn.org. See: https://github.com/scikit-learn/scikit-learn/issues/21755 */display: inline-block !important;position: relative;}#sk-container-id-2 div.sk-text-repr-fallback {display: none;}</style><div id=\"sk-container-id-2\" class=\"sk-top-container\"><div class=\"sk-text-repr-fallback\"><pre>BayesSearchCV(cv=5,\n",
       "              estimator=RandomForestClassifier(n_estimators=150,\n",
       "                                               random_state=0),\n",
       "              n_jobs=-1, random_state=0,\n",
       "              search_spaces={&#x27;max_depth&#x27;: (2, 5), &#x27;min_samples_leaf&#x27;: (1, 5),\n",
       "                             &#x27;min_samples_split&#x27;: (2, 5)})</pre><b>In a Jupyter environment, please rerun this cell to show the HTML representation or trust the notebook. <br />On GitHub, the HTML representation is unable to render, please try loading this page with nbviewer.org.</b></div><div class=\"sk-container\" hidden><div class=\"sk-item sk-dashed-wrapped\"><div class=\"sk-label-container\"><div class=\"sk-label sk-toggleable\"><input class=\"sk-toggleable__control sk-hidden--visually\" id=\"sk-estimator-id-2\" type=\"checkbox\" ><label for=\"sk-estimator-id-2\" class=\"sk-toggleable__label sk-toggleable__label-arrow\">BayesSearchCV</label><div class=\"sk-toggleable__content\"><pre>BayesSearchCV(cv=5,\n",
       "              estimator=RandomForestClassifier(n_estimators=150,\n",
       "                                               random_state=0),\n",
       "              n_jobs=-1, random_state=0,\n",
       "              search_spaces={&#x27;max_depth&#x27;: (2, 5), &#x27;min_samples_leaf&#x27;: (1, 5),\n",
       "                             &#x27;min_samples_split&#x27;: (2, 5)})</pre></div></div></div><div class=\"sk-parallel\"><div class=\"sk-parallel-item\"><div class=\"sk-item\"><div class=\"sk-label-container\"><div class=\"sk-label sk-toggleable\"><input class=\"sk-toggleable__control sk-hidden--visually\" id=\"sk-estimator-id-3\" type=\"checkbox\" ><label for=\"sk-estimator-id-3\" class=\"sk-toggleable__label sk-toggleable__label-arrow\">estimator: RandomForestClassifier</label><div class=\"sk-toggleable__content\"><pre>RandomForestClassifier(n_estimators=150, random_state=0)</pre></div></div></div><div class=\"sk-serial\"><div class=\"sk-item\"><div class=\"sk-estimator sk-toggleable\"><input class=\"sk-toggleable__control sk-hidden--visually\" id=\"sk-estimator-id-4\" type=\"checkbox\" ><label for=\"sk-estimator-id-4\" class=\"sk-toggleable__label sk-toggleable__label-arrow\">RandomForestClassifier</label><div class=\"sk-toggleable__content\"><pre>RandomForestClassifier(n_estimators=150, random_state=0)</pre></div></div></div></div></div></div></div></div></div></div>"
      ],
      "text/plain": [
       "BayesSearchCV(cv=5,\n",
       "              estimator=RandomForestClassifier(n_estimators=150,\n",
       "                                               random_state=0),\n",
       "              n_jobs=-1, random_state=0,\n",
       "              search_spaces={'max_depth': (2, 5), 'min_samples_leaf': (1, 5),\n",
       "                             'min_samples_split': (2, 5)})"
      ]
     },
     "execution_count": 39,
     "metadata": {},
     "output_type": "execute_result"
    }
   ],
   "source": [
    "# ハイパーパラメータの探索範囲を指定\n",
    "param_space = {'max_depth': (2,5),\n",
    "              # 'max_leaf_nodes': (5,10),\n",
    "              'min_samples_leaf': (1,5),\n",
    "              'min_samples_split': (2,5)}\n",
    "\n",
    "# ベイズ最適化の実行\n",
    "rfc = BayesSearchCV(rfc, param_space, n_iter=50, cv=5, n_jobs=-1, random_state=MyRand)\n",
    "rfc.fit(X_train_std, y_train)"
   ]
  },
  {
   "cell_type": "code",
   "execution_count": 40,
   "metadata": {},
   "outputs": [
    {
     "name": "stdout",
     "output_type": "stream",
     "text": [
      "Best Parameters: OrderedDict([('max_depth', 4), ('min_samples_leaf', 2), ('min_samples_split', 2)])\n",
      "CV Score: 0.831\n",
      "\n",
      "Random Forest Classifier\n",
      "Train Score: 0.841\n",
      " Test Score: 0.804\n"
     ]
    }
   ],
   "source": [
    "# 最適なハイパーパラメータを表示\n",
    "print('Best Parameters: {}'.format(rfc.best_params_))\n",
    "print('CV Score: {}\\n'.format(round(rfc.best_score_, 3)))\n",
    "\n",
    "rfc = rfc.best_estimator_\n",
    "\n",
    "print('Random Forest Classifier')\n",
    "print('Train Score: {}'.format(round(rfc.score(X_train_std, y_train), 3)))\n",
    "print(' Test Score: {}'.format(round(rfc.score(X_valid_std, y_valid), 3)))"
   ]
  },
  {
   "cell_type": "code",
   "execution_count": 41,
   "metadata": {},
   "outputs": [
    {
     "data": {
      "image/png": "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",
      "text/plain": [
       "<Figure size 1000x600 with 1 Axes>"
      ]
     },
     "metadata": {},
     "output_type": "display_data"
    }
   ],
   "source": [
    "# ランダムフォレストで重視されている特徴量の可視化\n",
    "# https://happy-analysis.com/python/python-topic-tree-importance.html\n",
    "\n",
    "importances = rfc.feature_importances_\n",
    "feature_names = df.iloc[:, 2:].columns\n",
    "\n",
    "feature_importance_df = pd.DataFrame({'Feature':feature_names, 'Importance':importances})\n",
    "\n",
    "feature_importance_df = feature_importance_df.sort_values(by='Importance',ascending=False)\n",
    "\n",
    "plt.figure(figsize=(10,6), facecolor='gray')\n",
    "plt.rcParams[\"font.size\"] = 18\n",
    "plt.barh(feature_importance_df['Feature'], feature_importance_df['Importance'])\n",
    "plt.xlabel('Importance')\n",
    "# plt.savefig(\"Feature Importance.png\", bbox_inches='tight')\n",
    "plt.show()"
   ]
  },
  {
   "cell_type": "markdown",
   "metadata": {},
   "source": [
    "#### 3.2. 多層パーセプトロン"
   ]
  },
  {
   "cell_type": "code",
   "execution_count": 42,
   "metadata": {},
   "outputs": [
    {
     "name": "stdout",
     "output_type": "stream",
     "text": [
      "Multilayer Perceptron Classifier\n",
      "Train Score: 0.846\n",
      "Test Score: 0.804\n"
     ]
    }
   ],
   "source": [
    "# 多層パーセプトロン\n",
    "# https://zenn.dev/nekoallergy/articles/sklearn-nn-mlpclf02\n",
    "\n",
    "# 標準化\n",
    "sc = StandardScaler()\n",
    "sc.fit(X_train)\n",
    "X_train_std = sc.transform(X_train)\n",
    "X_valid_std = sc.transform(X_valid)\n",
    "\n",
    "mlpc = MLPClassifier(hidden_layer_sizes=(11,47), random_state=MyRand)\n",
    "mlpc.fit(X_train_std, y_train)\n",
    "\n",
    "print('Multilayer Perceptron Classifier')\n",
    "print('Train Score: {}'.format(round(mlpc.score(X_train_std, y_train), 3)))\n",
    "print('Test Score: {}'.format(round(mlpc.score(X_valid_std, y_valid), 3)))"
   ]
  },
  {
   "cell_type": "markdown",
   "metadata": {},
   "source": [
    "#### 3.3. ロジスティック回帰"
   ]
  },
  {
   "cell_type": "code",
   "execution_count": 43,
   "metadata": {},
   "outputs": [
    {
     "data": {
      "text/html": [
       "<style>#sk-container-id-3 {color: black;background-color: white;}#sk-container-id-3 pre{padding: 0;}#sk-container-id-3 div.sk-toggleable {background-color: white;}#sk-container-id-3 label.sk-toggleable__label {cursor: pointer;display: block;width: 100%;margin-bottom: 0;padding: 0.3em;box-sizing: border-box;text-align: center;}#sk-container-id-3 label.sk-toggleable__label-arrow:before {content: \"▸\";float: left;margin-right: 0.25em;color: #696969;}#sk-container-id-3 label.sk-toggleable__label-arrow:hover:before {color: black;}#sk-container-id-3 div.sk-estimator:hover label.sk-toggleable__label-arrow:before {color: black;}#sk-container-id-3 div.sk-toggleable__content {max-height: 0;max-width: 0;overflow: hidden;text-align: left;background-color: #f0f8ff;}#sk-container-id-3 div.sk-toggleable__content pre {margin: 0.2em;color: black;border-radius: 0.25em;background-color: #f0f8ff;}#sk-container-id-3 input.sk-toggleable__control:checked~div.sk-toggleable__content {max-height: 200px;max-width: 100%;overflow: auto;}#sk-container-id-3 input.sk-toggleable__control:checked~label.sk-toggleable__label-arrow:before {content: \"▾\";}#sk-container-id-3 div.sk-estimator input.sk-toggleable__control:checked~label.sk-toggleable__label {background-color: #d4ebff;}#sk-container-id-3 div.sk-label input.sk-toggleable__control:checked~label.sk-toggleable__label {background-color: #d4ebff;}#sk-container-id-3 input.sk-hidden--visually {border: 0;clip: rect(1px 1px 1px 1px);clip: rect(1px, 1px, 1px, 1px);height: 1px;margin: -1px;overflow: hidden;padding: 0;position: absolute;width: 1px;}#sk-container-id-3 div.sk-estimator {font-family: monospace;background-color: #f0f8ff;border: 1px dotted black;border-radius: 0.25em;box-sizing: border-box;margin-bottom: 0.5em;}#sk-container-id-3 div.sk-estimator:hover {background-color: #d4ebff;}#sk-container-id-3 div.sk-parallel-item::after {content: \"\";width: 100%;border-bottom: 1px solid gray;flex-grow: 1;}#sk-container-id-3 div.sk-label:hover label.sk-toggleable__label {background-color: #d4ebff;}#sk-container-id-3 div.sk-serial::before {content: \"\";position: absolute;border-left: 1px solid gray;box-sizing: border-box;top: 0;bottom: 0;left: 50%;z-index: 0;}#sk-container-id-3 div.sk-serial {display: flex;flex-direction: column;align-items: center;background-color: white;padding-right: 0.2em;padding-left: 0.2em;position: relative;}#sk-container-id-3 div.sk-item {position: relative;z-index: 1;}#sk-container-id-3 div.sk-parallel {display: flex;align-items: stretch;justify-content: center;background-color: white;position: relative;}#sk-container-id-3 div.sk-item::before, #sk-container-id-3 div.sk-parallel-item::before {content: \"\";position: absolute;border-left: 1px solid gray;box-sizing: border-box;top: 0;bottom: 0;left: 50%;z-index: -1;}#sk-container-id-3 div.sk-parallel-item {display: flex;flex-direction: column;z-index: 1;position: relative;background-color: white;}#sk-container-id-3 div.sk-parallel-item:first-child::after {align-self: flex-end;width: 50%;}#sk-container-id-3 div.sk-parallel-item:last-child::after {align-self: flex-start;width: 50%;}#sk-container-id-3 div.sk-parallel-item:only-child::after {width: 0;}#sk-container-id-3 div.sk-dashed-wrapped {border: 1px dashed gray;margin: 0 0.4em 0.5em 0.4em;box-sizing: border-box;padding-bottom: 0.4em;background-color: white;}#sk-container-id-3 div.sk-label label {font-family: monospace;font-weight: bold;display: inline-block;line-height: 1.2em;}#sk-container-id-3 div.sk-label-container {text-align: center;}#sk-container-id-3 div.sk-container {/* jupyter's `normalize.less` sets `[hidden] { display: none; }` but bootstrap.min.css set `[hidden] { display: none !important; }` so we also need the `!important` here to be able to override the default hidden behavior on the sphinx rendered scikit-learn.org. See: https://github.com/scikit-learn/scikit-learn/issues/21755 */display: inline-block !important;position: relative;}#sk-container-id-3 div.sk-text-repr-fallback {display: none;}</style><div id=\"sk-container-id-3\" class=\"sk-top-container\"><div class=\"sk-text-repr-fallback\"><pre>BayesSearchCV(cv=5, estimator=LogisticRegression(random_state=0), n_jobs=-1,\n",
       "              random_state=0,\n",
       "              search_spaces={&#x27;C&#x27;: (1e-05, 1000.0, &#x27;log-uniform&#x27;)})</pre><b>In a Jupyter environment, please rerun this cell to show the HTML representation or trust the notebook. <br />On GitHub, the HTML representation is unable to render, please try loading this page with nbviewer.org.</b></div><div class=\"sk-container\" hidden><div class=\"sk-item sk-dashed-wrapped\"><div class=\"sk-label-container\"><div class=\"sk-label sk-toggleable\"><input class=\"sk-toggleable__control sk-hidden--visually\" id=\"sk-estimator-id-5\" type=\"checkbox\" ><label for=\"sk-estimator-id-5\" class=\"sk-toggleable__label sk-toggleable__label-arrow\">BayesSearchCV</label><div class=\"sk-toggleable__content\"><pre>BayesSearchCV(cv=5, estimator=LogisticRegression(random_state=0), n_jobs=-1,\n",
       "              random_state=0,\n",
       "              search_spaces={&#x27;C&#x27;: (1e-05, 1000.0, &#x27;log-uniform&#x27;)})</pre></div></div></div><div class=\"sk-parallel\"><div class=\"sk-parallel-item\"><div class=\"sk-item\"><div class=\"sk-label-container\"><div class=\"sk-label sk-toggleable\"><input class=\"sk-toggleable__control sk-hidden--visually\" id=\"sk-estimator-id-6\" type=\"checkbox\" ><label for=\"sk-estimator-id-6\" class=\"sk-toggleable__label sk-toggleable__label-arrow\">estimator: LogisticRegression</label><div class=\"sk-toggleable__content\"><pre>LogisticRegression(random_state=0)</pre></div></div></div><div class=\"sk-serial\"><div class=\"sk-item\"><div class=\"sk-estimator sk-toggleable\"><input class=\"sk-toggleable__control sk-hidden--visually\" id=\"sk-estimator-id-7\" type=\"checkbox\" ><label for=\"sk-estimator-id-7\" class=\"sk-toggleable__label sk-toggleable__label-arrow\">LogisticRegression</label><div class=\"sk-toggleable__content\"><pre>LogisticRegression(random_state=0)</pre></div></div></div></div></div></div></div></div></div></div>"
      ],
      "text/plain": [
       "BayesSearchCV(cv=5, estimator=LogisticRegression(random_state=0), n_jobs=-1,\n",
       "              random_state=0,\n",
       "              search_spaces={'C': (1e-05, 1000.0, 'log-uniform')})"
      ]
     },
     "execution_count": 43,
     "metadata": {},
     "output_type": "execute_result"
    }
   ],
   "source": [
    "# ロジスティック回帰\n",
    "# スケーリング\n",
    "# https://qiita.com/ttskng/items/2a33c1ca925e4501e609\n",
    "# https://hawk-tech-blog.com/python-machine-learning-basic-scaling/\n",
    "\n",
    "# 標準化を行う\n",
    "sc = StandardScaler()\n",
    "sc.fit(X_train)\n",
    "X_train_std = sc.transform(X_train)\n",
    "X_valid_std = sc.transform(X_valid)\n",
    "\n",
    "# ロジスティック回帰のハイパーパラメータ探索空間\n",
    "param_space = {'C': (1e-5, 1e+3, 'log-uniform')}\n",
    "\n",
    "# ベイズ最適化の実行\n",
    "lr = LogisticRegression(random_state=MyRand)\n",
    "lr = BayesSearchCV(lr, param_space, cv=5, n_iter=50, n_jobs=-1, random_state=MyRand)\n",
    "lr.fit(X_train_std, y_train)"
   ]
  },
  {
   "cell_type": "code",
   "execution_count": 44,
   "metadata": {},
   "outputs": [
    {
     "name": "stdout",
     "output_type": "stream",
     "text": [
      "Best Parameters: OrderedDict([('C', 0.0661613323215242)])\n",
      "CV Score: 0.796\n",
      "\n",
      "Logistic Regression\n",
      "Train Score: 0.808\n",
      " Test Score: 0.799\n"
     ]
    }
   ],
   "source": [
    "# 最適なハイパーパラメータを表示\n",
    "print('Best Parameters: {}'.format(lr.best_params_))\n",
    "print('CV Score: {}\\n'.format(round(lr.best_score_, 3)))\n",
    "\n",
    "lr = lr.best_estimator_\n",
    "lr.fit(X_train_std, y_train)\n",
    "\n",
    "print('Logistic Regression')\n",
    "print('Train Score: {}'.format(round(lr.score(X_train_std, y_train), 3)))\n",
    "print(' Test Score: {}'.format(round(lr.score(X_valid_std, y_valid), 3)))"
   ]
  },
  {
   "cell_type": "markdown",
   "metadata": {},
   "source": [
    "#### 3.4. SVM"
   ]
  },
  {
   "cell_type": "code",
   "execution_count": 45,
   "metadata": {},
   "outputs": [
    {
     "data": {
      "text/html": [
       "<style>#sk-container-id-4 {color: black;background-color: white;}#sk-container-id-4 pre{padding: 0;}#sk-container-id-4 div.sk-toggleable {background-color: white;}#sk-container-id-4 label.sk-toggleable__label {cursor: pointer;display: block;width: 100%;margin-bottom: 0;padding: 0.3em;box-sizing: border-box;text-align: center;}#sk-container-id-4 label.sk-toggleable__label-arrow:before {content: \"▸\";float: left;margin-right: 0.25em;color: #696969;}#sk-container-id-4 label.sk-toggleable__label-arrow:hover:before {color: black;}#sk-container-id-4 div.sk-estimator:hover label.sk-toggleable__label-arrow:before {color: black;}#sk-container-id-4 div.sk-toggleable__content {max-height: 0;max-width: 0;overflow: hidden;text-align: left;background-color: #f0f8ff;}#sk-container-id-4 div.sk-toggleable__content pre {margin: 0.2em;color: black;border-radius: 0.25em;background-color: #f0f8ff;}#sk-container-id-4 input.sk-toggleable__control:checked~div.sk-toggleable__content {max-height: 200px;max-width: 100%;overflow: auto;}#sk-container-id-4 input.sk-toggleable__control:checked~label.sk-toggleable__label-arrow:before {content: \"▾\";}#sk-container-id-4 div.sk-estimator input.sk-toggleable__control:checked~label.sk-toggleable__label {background-color: #d4ebff;}#sk-container-id-4 div.sk-label input.sk-toggleable__control:checked~label.sk-toggleable__label {background-color: #d4ebff;}#sk-container-id-4 input.sk-hidden--visually {border: 0;clip: rect(1px 1px 1px 1px);clip: rect(1px, 1px, 1px, 1px);height: 1px;margin: -1px;overflow: hidden;padding: 0;position: absolute;width: 1px;}#sk-container-id-4 div.sk-estimator {font-family: monospace;background-color: #f0f8ff;border: 1px dotted black;border-radius: 0.25em;box-sizing: border-box;margin-bottom: 0.5em;}#sk-container-id-4 div.sk-estimator:hover {background-color: #d4ebff;}#sk-container-id-4 div.sk-parallel-item::after {content: \"\";width: 100%;border-bottom: 1px solid gray;flex-grow: 1;}#sk-container-id-4 div.sk-label:hover label.sk-toggleable__label {background-color: #d4ebff;}#sk-container-id-4 div.sk-serial::before {content: \"\";position: absolute;border-left: 1px solid gray;box-sizing: border-box;top: 0;bottom: 0;left: 50%;z-index: 0;}#sk-container-id-4 div.sk-serial {display: flex;flex-direction: column;align-items: center;background-color: white;padding-right: 0.2em;padding-left: 0.2em;position: relative;}#sk-container-id-4 div.sk-item {position: relative;z-index: 1;}#sk-container-id-4 div.sk-parallel {display: flex;align-items: stretch;justify-content: center;background-color: white;position: relative;}#sk-container-id-4 div.sk-item::before, #sk-container-id-4 div.sk-parallel-item::before {content: \"\";position: absolute;border-left: 1px solid gray;box-sizing: border-box;top: 0;bottom: 0;left: 50%;z-index: -1;}#sk-container-id-4 div.sk-parallel-item {display: flex;flex-direction: column;z-index: 1;position: relative;background-color: white;}#sk-container-id-4 div.sk-parallel-item:first-child::after {align-self: flex-end;width: 50%;}#sk-container-id-4 div.sk-parallel-item:last-child::after {align-self: flex-start;width: 50%;}#sk-container-id-4 div.sk-parallel-item:only-child::after {width: 0;}#sk-container-id-4 div.sk-dashed-wrapped {border: 1px dashed gray;margin: 0 0.4em 0.5em 0.4em;box-sizing: border-box;padding-bottom: 0.4em;background-color: white;}#sk-container-id-4 div.sk-label label {font-family: monospace;font-weight: bold;display: inline-block;line-height: 1.2em;}#sk-container-id-4 div.sk-label-container {text-align: center;}#sk-container-id-4 div.sk-container {/* jupyter's `normalize.less` sets `[hidden] { display: none; }` but bootstrap.min.css set `[hidden] { display: none !important; }` so we also need the `!important` here to be able to override the default hidden behavior on the sphinx rendered scikit-learn.org. See: https://github.com/scikit-learn/scikit-learn/issues/21755 */display: inline-block !important;position: relative;}#sk-container-id-4 div.sk-text-repr-fallback {display: none;}</style><div id=\"sk-container-id-4\" class=\"sk-top-container\"><div class=\"sk-text-repr-fallback\"><pre>BayesSearchCV(cv=5, estimator=SVC(probability=True, random_state=0), n_jobs=-1,\n",
       "              random_state=0,\n",
       "              search_spaces={&#x27;C&#x27;: (0.001, 1000.0, &#x27;log-uniform&#x27;),\n",
       "                             &#x27;gamma&#x27;: (0.001, 10.0, &#x27;log-uniform&#x27;)})</pre><b>In a Jupyter environment, please rerun this cell to show the HTML representation or trust the notebook. <br />On GitHub, the HTML representation is unable to render, please try loading this page with nbviewer.org.</b></div><div class=\"sk-container\" hidden><div class=\"sk-item sk-dashed-wrapped\"><div class=\"sk-label-container\"><div class=\"sk-label sk-toggleable\"><input class=\"sk-toggleable__control sk-hidden--visually\" id=\"sk-estimator-id-8\" type=\"checkbox\" ><label for=\"sk-estimator-id-8\" class=\"sk-toggleable__label sk-toggleable__label-arrow\">BayesSearchCV</label><div class=\"sk-toggleable__content\"><pre>BayesSearchCV(cv=5, estimator=SVC(probability=True, random_state=0), n_jobs=-1,\n",
       "              random_state=0,\n",
       "              search_spaces={&#x27;C&#x27;: (0.001, 1000.0, &#x27;log-uniform&#x27;),\n",
       "                             &#x27;gamma&#x27;: (0.001, 10.0, &#x27;log-uniform&#x27;)})</pre></div></div></div><div class=\"sk-parallel\"><div class=\"sk-parallel-item\"><div class=\"sk-item\"><div class=\"sk-label-container\"><div class=\"sk-label sk-toggleable\"><input class=\"sk-toggleable__control sk-hidden--visually\" id=\"sk-estimator-id-9\" type=\"checkbox\" ><label for=\"sk-estimator-id-9\" class=\"sk-toggleable__label sk-toggleable__label-arrow\">estimator: SVC</label><div class=\"sk-toggleable__content\"><pre>SVC(probability=True, random_state=0)</pre></div></div></div><div class=\"sk-serial\"><div class=\"sk-item\"><div class=\"sk-estimator sk-toggleable\"><input class=\"sk-toggleable__control sk-hidden--visually\" id=\"sk-estimator-id-10\" type=\"checkbox\" ><label for=\"sk-estimator-id-10\" class=\"sk-toggleable__label sk-toggleable__label-arrow\">SVC</label><div class=\"sk-toggleable__content\"><pre>SVC(probability=True, random_state=0)</pre></div></div></div></div></div></div></div></div></div></div>"
      ],
      "text/plain": [
       "BayesSearchCV(cv=5, estimator=SVC(probability=True, random_state=0), n_jobs=-1,\n",
       "              random_state=0,\n",
       "              search_spaces={'C': (0.001, 1000.0, 'log-uniform'),\n",
       "                             'gamma': (0.001, 10.0, 'log-uniform')})"
      ]
     },
     "execution_count": 45,
     "metadata": {},
     "output_type": "execute_result"
    }
   ],
   "source": [
    "# サポートベクターマシンのパラメータ調整\n",
    "# https://chat.openai.com/c/38b179d8-a042-4a9f-9bde-f8e54a171a5d\n",
    "svc = SVC(probability=True, random_state=MyRand)\n",
    "\n",
    "# 標準化\n",
    "sc = StandardScaler()\n",
    "sc.fit(X_train)\n",
    "X_train_std = sc.transform(X_train)\n",
    "X_valid_std = sc.transform(X_valid)\n",
    "\n",
    "# ハイパーパラメータの探索範囲を指定\n",
    "param_space = {'C': (1e-3, 1e+3, 'log-uniform'),\n",
    "               'gamma': (1e-3, 1e+1, 'log-uniform')}\n",
    "\n",
    "# ベイズ最適化の実行\n",
    "svc = BayesSearchCV(svc, param_space, n_iter=50, cv=5, n_jobs=-1, random_state=MyRand)\n",
    "svc.fit(X_train_std, y_train)"
   ]
  },
  {
   "cell_type": "code",
   "execution_count": 46,
   "metadata": {},
   "outputs": [
    {
     "name": "stdout",
     "output_type": "stream",
     "text": [
      "Best Parameters: OrderedDict([('C', 0.36541009893995074), ('gamma', 0.21050601885680825)])\n",
      "CV Score: 0.82\n",
      "\n",
      "Support Vector Machine\n",
      "Train Score: 0.844\n",
      " Test Score: 0.777\n"
     ]
    }
   ],
   "source": [
    "# 最適なハイパーパラメータを表示\n",
    "print('Best Parameters: {}'.format(svc.best_params_))\n",
    "print('CV Score: {}\\n'.format(round(svc.best_score_, 3)))\n",
    "\n",
    "svc = svc.best_estimator_\n",
    "svc.fit(X_train_std,y_train)\n",
    "\n",
    "print('Support Vector Machine')\n",
    "print('Train Score: {}'.format(round(svc.score(X_train_std, y_train), 3)))\n",
    "print(' Test Score: {}'.format(round(svc.score(X_valid_std, y_valid), 3)))"
   ]
  },
  {
   "cell_type": "markdown",
   "metadata": {},
   "source": [
    "#### 3.5. $k$ -NN"
   ]
  },
  {
   "cell_type": "code",
   "execution_count": 47,
   "metadata": {},
   "outputs": [
    {
     "data": {
      "text/plain": [
       "<matplotlib.legend.Legend at 0x17fb4d63790>"
      ]
     },
     "execution_count": 47,
     "metadata": {},
     "output_type": "execute_result"
    },
    {
     "data": {
      "image/png": "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",
      "text/plain": [
       "<Figure size 640x480 with 1 Axes>"
      ]
     },
     "metadata": {},
     "output_type": "display_data"
    }
   ],
   "source": [
    "# k-NN\n",
    "# 標準化\n",
    "sc = StandardScaler()\n",
    "sc.fit(X_train)\n",
    "X_train_std = sc.transform(X_train)\n",
    "X_valid_std = sc.transform(X_valid)\n",
    "\n",
    "# グラフ描画用のリストを用意\n",
    "training_accuracy = []\n",
    "test_accuracy = []\n",
    "\n",
    "for n_neighbors in range(1, 30):\n",
    "    knn = KNeighborsClassifier(n_neighbors=n_neighbors)\n",
    "    knn.fit(X_train_std, y_train)\n",
    "    training_accuracy.append(knn.score(X_train_std, y_train))\n",
    "    test_accuracy.append(knn.score(X_valid_std, y_valid))\n",
    "\n",
    "# グラフを描画\n",
    "plt.plot(range(1, 30), training_accuracy, label='Training')\n",
    "plt.plot(range(1, 30), test_accuracy, label='Test')\n",
    "plt.ylabel('Accuracy')\n",
    "plt.xlabel('n_neighbors')\n",
    "plt.legend()"
   ]
  },
  {
   "cell_type": "code",
   "execution_count": 48,
   "metadata": {},
   "outputs": [
    {
     "name": "stdout",
     "output_type": "stream",
     "text": [
      "k-Nearest Neighbor\n",
      "n =  10\n",
      "Train Score: 0.823\n",
      " Test Score: 0.788\n"
     ]
    }
   ],
   "source": [
    "# 調整済みのKNN\n",
    "\n",
    "knn = KNeighborsClassifier(n_neighbors=10)\n",
    "knn.fit(X_train_std, y_train)\n",
    "\n",
    "print('k-Nearest Neighbor')\n",
    "print('n = ',knn.n_neighbors)\n",
    "print('Train Score: {}'.format(round(knn.score(X_train_std, y_train), 3)))\n",
    "print(' Test Score: {}'.format(round(knn.score(X_valid_std, y_valid), 3)))"
   ]
  },
  {
   "cell_type": "markdown",
   "metadata": {},
   "source": [
    "### 4. テストデータの予測"
   ]
  },
  {
   "cell_type": "code",
   "execution_count": 404,
   "metadata": {},
   "outputs": [],
   "source": [
    "# テストデータの予測\n",
    "# データの正規化\n",
    "sc = StandardScaler()\n",
    "sc.fit(X)\n",
    "X_std = sc.transform(X)\n",
    "X_test_std = sc.transform(X_test)"
   ]
  },
  {
   "cell_type": "code",
   "execution_count": 405,
   "metadata": {},
   "outputs": [
    {
     "data": {
      "text/html": [
       "<style>#sk-container-id-15 {color: black;background-color: white;}#sk-container-id-15 pre{padding: 0;}#sk-container-id-15 div.sk-toggleable {background-color: white;}#sk-container-id-15 label.sk-toggleable__label {cursor: pointer;display: block;width: 100%;margin-bottom: 0;padding: 0.3em;box-sizing: border-box;text-align: center;}#sk-container-id-15 label.sk-toggleable__label-arrow:before {content: \"▸\";float: left;margin-right: 0.25em;color: #696969;}#sk-container-id-15 label.sk-toggleable__label-arrow:hover:before {color: black;}#sk-container-id-15 div.sk-estimator:hover label.sk-toggleable__label-arrow:before {color: black;}#sk-container-id-15 div.sk-toggleable__content {max-height: 0;max-width: 0;overflow: hidden;text-align: left;background-color: #f0f8ff;}#sk-container-id-15 div.sk-toggleable__content pre {margin: 0.2em;color: black;border-radius: 0.25em;background-color: #f0f8ff;}#sk-container-id-15 input.sk-toggleable__control:checked~div.sk-toggleable__content {max-height: 200px;max-width: 100%;overflow: auto;}#sk-container-id-15 input.sk-toggleable__control:checked~label.sk-toggleable__label-arrow:before {content: \"▾\";}#sk-container-id-15 div.sk-estimator input.sk-toggleable__control:checked~label.sk-toggleable__label {background-color: #d4ebff;}#sk-container-id-15 div.sk-label input.sk-toggleable__control:checked~label.sk-toggleable__label {background-color: #d4ebff;}#sk-container-id-15 input.sk-hidden--visually {border: 0;clip: rect(1px 1px 1px 1px);clip: rect(1px, 1px, 1px, 1px);height: 1px;margin: -1px;overflow: hidden;padding: 0;position: absolute;width: 1px;}#sk-container-id-15 div.sk-estimator {font-family: monospace;background-color: #f0f8ff;border: 1px dotted black;border-radius: 0.25em;box-sizing: border-box;margin-bottom: 0.5em;}#sk-container-id-15 div.sk-estimator:hover {background-color: #d4ebff;}#sk-container-id-15 div.sk-parallel-item::after {content: \"\";width: 100%;border-bottom: 1px solid gray;flex-grow: 1;}#sk-container-id-15 div.sk-label:hover label.sk-toggleable__label {background-color: #d4ebff;}#sk-container-id-15 div.sk-serial::before {content: \"\";position: absolute;border-left: 1px solid gray;box-sizing: border-box;top: 0;bottom: 0;left: 50%;z-index: 0;}#sk-container-id-15 div.sk-serial {display: flex;flex-direction: column;align-items: center;background-color: white;padding-right: 0.2em;padding-left: 0.2em;position: relative;}#sk-container-id-15 div.sk-item {position: relative;z-index: 1;}#sk-container-id-15 div.sk-parallel {display: flex;align-items: stretch;justify-content: center;background-color: white;position: relative;}#sk-container-id-15 div.sk-item::before, #sk-container-id-15 div.sk-parallel-item::before {content: \"\";position: absolute;border-left: 1px solid gray;box-sizing: border-box;top: 0;bottom: 0;left: 50%;z-index: -1;}#sk-container-id-15 div.sk-parallel-item {display: flex;flex-direction: column;z-index: 1;position: relative;background-color: white;}#sk-container-id-15 div.sk-parallel-item:first-child::after {align-self: flex-end;width: 50%;}#sk-container-id-15 div.sk-parallel-item:last-child::after {align-self: flex-start;width: 50%;}#sk-container-id-15 div.sk-parallel-item:only-child::after {width: 0;}#sk-container-id-15 div.sk-dashed-wrapped {border: 1px dashed gray;margin: 0 0.4em 0.5em 0.4em;box-sizing: border-box;padding-bottom: 0.4em;background-color: white;}#sk-container-id-15 div.sk-label label {font-family: monospace;font-weight: bold;display: inline-block;line-height: 1.2em;}#sk-container-id-15 div.sk-label-container {text-align: center;}#sk-container-id-15 div.sk-container {/* jupyter's `normalize.less` sets `[hidden] { display: none; }` but bootstrap.min.css set `[hidden] { display: none !important; }` so we also need the `!important` here to be able to override the default hidden behavior on the sphinx rendered scikit-learn.org. See: https://github.com/scikit-learn/scikit-learn/issues/21755 */display: inline-block !important;position: relative;}#sk-container-id-15 div.sk-text-repr-fallback {display: none;}</style><div id=\"sk-container-id-15\" class=\"sk-top-container\"><div class=\"sk-text-repr-fallback\"><pre>KNeighborsClassifier(n_neighbors=10)</pre><b>In a Jupyter environment, please rerun this cell to show the HTML representation or trust the notebook. <br />On GitHub, the HTML representation is unable to render, please try loading this page with nbviewer.org.</b></div><div class=\"sk-container\" hidden><div class=\"sk-item\"><div class=\"sk-estimator sk-toggleable\"><input class=\"sk-toggleable__control sk-hidden--visually\" id=\"sk-estimator-id-27\" type=\"checkbox\" checked><label for=\"sk-estimator-id-27\" class=\"sk-toggleable__label sk-toggleable__label-arrow\">KNeighborsClassifier</label><div class=\"sk-toggleable__content\"><pre>KNeighborsClassifier(n_neighbors=10)</pre></div></div></div></div></div>"
      ],
      "text/plain": [
       "KNeighborsClassifier(n_neighbors=10)"
      ]
     },
     "execution_count": 405,
     "metadata": {},
     "output_type": "execute_result"
    }
   ],
   "source": [
    "# モデルの再学習\n",
    "rfc.fit(X_std, y)\n",
    "mlpc.fit(X_std, y)\n",
    "lr.fit(X_std, y)\n",
    "svc.fit(X_std, y)\n",
    "knn.fit(X_std, y)"
   ]
  },
  {
   "cell_type": "code",
   "execution_count": 406,
   "metadata": {},
   "outputs": [],
   "source": [
    "# テストデータの回答を予測\n",
    "rfc_pred = rfc.predict_proba(X_test_std)\n",
    "mlpc_pred = mlpc.predict_proba(X_test_std)\n",
    "lr_pred = lr.predict_proba(X_test_std)\n",
    "svc_pred = svc.predict_proba(X_test_std)\n",
    "knn_pred = knn.predict_proba(X_test_std)"
   ]
  },
  {
   "cell_type": "code",
   "execution_count": 408,
   "metadata": {},
   "outputs": [],
   "source": [
    "# 平均を最終的な回答とする\n",
    "pred_proba = (rfc_pred + mlpc_pred + lr_pred + svc_pred + knn_pred) / 5\n",
    "pred =pred_proba.argmax(axis=1)"
   ]
  },
  {
   "cell_type": "code",
   "execution_count": 409,
   "metadata": {},
   "outputs": [],
   "source": [
    "# 提出用データ作成\n",
    "# 読み込むデータが格納されたディレクトリのパス，必要に応じて変更の必要あり\n",
    "path = ,
    "\n",
    "submission = pd.read_csv(path + r\"\\gender_submission.csv\")\n",
    "submission['Survived'] = pred\n",
    "\n",
    "submission.to_csv('submission.csv',index=False)"
   ]
  }
 ],
 "metadata": {
  "kernelspec": {
   "display_name": "Python 3",
   "language": "python",
   "name": "python3"
  },
  "language_info": {
   "codemirror_mode": {
    "name": "ipython",
    "version": 3
   },
   "file_extension": ".py",
   "mimetype": "text/x-python",
   "name": "python",
   "nbconvert_exporter": "python",
   "pygments_lexer": "ipython3",
   "version": "3.10.6"
  }
 },
 "nbformat": 4,
 "nbformat_minor": 2
}
